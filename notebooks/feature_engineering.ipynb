{
 "cells": [
  {
   "cell_type": "code",
   "execution_count": 1,
   "id": "6dcc5710",
   "metadata": {},
   "outputs": [
    {
     "name": "stdout",
     "output_type": "stream",
     "text": [
      "✅ Connected to Postgres\n"
     ]
    }
   ],
   "source": [
    "# 📦 Imports\n",
    "import os\n",
    "import pandas as pd\n",
    "import numpy as np\n",
    "from sqlalchemy import create_engine, text\n",
    "from dotenv import load_dotenv\n",
    "\n",
    "# 🔑 Load environment variables\n",
    "load_dotenv()\n",
    "\n",
    "DB_USER = os.getenv(\"DB_USER\")\n",
    "DB_PASSWORD = os.getenv(\"DB_PASSWORD\") or \"\"\n",
    "DB_HOST = os.getenv(\"DB_HOST\")\n",
    "DB_PORT = os.getenv(\"DB_PORT\")\n",
    "DB_NAME = os.getenv(\"DB_NAME\")\n",
    "\n",
    "# 🔌 Connect to PostgreSQL\n",
    "DATABASE_URL = f\"postgresql+psycopg2://{DB_USER}:{DB_PASSWORD}@{DB_HOST}:{DB_PORT}/{DB_NAME}\"\n",
    "engine = create_engine(DATABASE_URL)\n",
    "print(\"✅ Connected to Postgres\")\n"
   ]
  },
  {
   "cell_type": "code",
   "execution_count": 2,
   "id": "afcb4eed",
   "metadata": {},
   "outputs": [
    {
     "ename": "ProgrammingError",
     "evalue": "(psycopg2.errors.UndefinedTable) relation \"clean.mv_ads\" does not exist\nLINE 1: SELECT * FROM clean.mv_ads\n                      ^\n\n[SQL: SELECT * FROM clean.mv_ads]\n(Background on this error at: https://sqlalche.me/e/20/f405)",
     "output_type": "error",
     "traceback": [
      "\u001b[31m---------------------------------------------------------------------------\u001b[39m",
      "\u001b[31mUndefinedTable\u001b[39m                            Traceback (most recent call last)",
      "\u001b[36mFile \u001b[39m\u001b[32m~/Documents/fraud_project/venv/lib/python3.11/site-packages/sqlalchemy/engine/base.py:1961\u001b[39m, in \u001b[36mConnection._exec_single_context\u001b[39m\u001b[34m(self, dialect, context, statement, parameters)\u001b[39m\n\u001b[32m   1960\u001b[39m     \u001b[38;5;28;01mif\u001b[39;00m \u001b[38;5;129;01mnot\u001b[39;00m evt_handled:\n\u001b[32m-> \u001b[39m\u001b[32m1961\u001b[39m         \u001b[38;5;28;43mself\u001b[39;49m\u001b[43m.\u001b[49m\u001b[43mdialect\u001b[49m\u001b[43m.\u001b[49m\u001b[43mdo_execute\u001b[49m\u001b[43m(\u001b[49m\n\u001b[32m   1962\u001b[39m \u001b[43m            \u001b[49m\u001b[43mcursor\u001b[49m\u001b[43m,\u001b[49m\u001b[43m \u001b[49m\u001b[43mstr_statement\u001b[49m\u001b[43m,\u001b[49m\u001b[43m \u001b[49m\u001b[43meffective_parameters\u001b[49m\u001b[43m,\u001b[49m\u001b[43m \u001b[49m\u001b[43mcontext\u001b[49m\n\u001b[32m   1963\u001b[39m \u001b[43m        \u001b[49m\u001b[43m)\u001b[49m\n\u001b[32m   1965\u001b[39m \u001b[38;5;28;01mif\u001b[39;00m \u001b[38;5;28mself\u001b[39m._has_events \u001b[38;5;129;01mor\u001b[39;00m \u001b[38;5;28mself\u001b[39m.engine._has_events:\n",
      "\u001b[36mFile \u001b[39m\u001b[32m~/Documents/fraud_project/venv/lib/python3.11/site-packages/sqlalchemy/engine/default.py:944\u001b[39m, in \u001b[36mDefaultDialect.do_execute\u001b[39m\u001b[34m(self, cursor, statement, parameters, context)\u001b[39m\n\u001b[32m    943\u001b[39m \u001b[38;5;28;01mdef\u001b[39;00m\u001b[38;5;250m \u001b[39m\u001b[34mdo_execute\u001b[39m(\u001b[38;5;28mself\u001b[39m, cursor, statement, parameters, context=\u001b[38;5;28;01mNone\u001b[39;00m):\n\u001b[32m--> \u001b[39m\u001b[32m944\u001b[39m     \u001b[43mcursor\u001b[49m\u001b[43m.\u001b[49m\u001b[43mexecute\u001b[49m\u001b[43m(\u001b[49m\u001b[43mstatement\u001b[49m\u001b[43m,\u001b[49m\u001b[43m \u001b[49m\u001b[43mparameters\u001b[49m\u001b[43m)\u001b[49m\n",
      "\u001b[31mUndefinedTable\u001b[39m: relation \"clean.mv_ads\" does not exist\nLINE 1: SELECT * FROM clean.mv_ads\n                      ^\n",
      "\nThe above exception was the direct cause of the following exception:\n",
      "\u001b[31mProgrammingError\u001b[39m                          Traceback (most recent call last)",
      "\u001b[36mCell\u001b[39m\u001b[36m \u001b[39m\u001b[32mIn[2]\u001b[39m\u001b[32m, line 6\u001b[39m\n\u001b[32m      3\u001b[39m query_clicks = \u001b[33m\"\u001b[39m\u001b[33mSELECT * FROM clean.mv_raw_clicks\u001b[39m\u001b[33m\"\u001b[39m\n\u001b[32m      4\u001b[39m query_conn = \u001b[33m\"\u001b[39m\u001b[33mSELECT * FROM clean.mv_ad_connections\u001b[39m\u001b[33m\"\u001b[39m\n\u001b[32m----> \u001b[39m\u001b[32m6\u001b[39m df_ads = \u001b[43mpd\u001b[49m\u001b[43m.\u001b[49m\u001b[43mread_sql\u001b[49m\u001b[43m(\u001b[49m\u001b[43mquery_ads\u001b[49m\u001b[43m,\u001b[49m\u001b[43m \u001b[49m\u001b[43mengine\u001b[49m\u001b[43m)\u001b[49m\n\u001b[32m      7\u001b[39m df_clicks = pd.read_sql(query_clicks, engine)\n\u001b[32m      8\u001b[39m df_conn = pd.read_sql(query_conn, engine)\n",
      "\u001b[36mFile \u001b[39m\u001b[32m~/Documents/fraud_project/venv/lib/python3.11/site-packages/pandas/io/sql.py:736\u001b[39m, in \u001b[36mread_sql\u001b[39m\u001b[34m(sql, con, index_col, coerce_float, params, parse_dates, columns, chunksize, dtype_backend, dtype)\u001b[39m\n\u001b[32m    726\u001b[39m     \u001b[38;5;28;01mreturn\u001b[39;00m pandas_sql.read_table(\n\u001b[32m    727\u001b[39m         sql,\n\u001b[32m    728\u001b[39m         index_col=index_col,\n\u001b[32m   (...)\u001b[39m\u001b[32m    733\u001b[39m         dtype_backend=dtype_backend,\n\u001b[32m    734\u001b[39m     )\n\u001b[32m    735\u001b[39m \u001b[38;5;28;01melse\u001b[39;00m:\n\u001b[32m--> \u001b[39m\u001b[32m736\u001b[39m     \u001b[38;5;28;01mreturn\u001b[39;00m \u001b[43mpandas_sql\u001b[49m\u001b[43m.\u001b[49m\u001b[43mread_query\u001b[49m\u001b[43m(\u001b[49m\n\u001b[32m    737\u001b[39m \u001b[43m        \u001b[49m\u001b[43msql\u001b[49m\u001b[43m,\u001b[49m\n\u001b[32m    738\u001b[39m \u001b[43m        \u001b[49m\u001b[43mindex_col\u001b[49m\u001b[43m=\u001b[49m\u001b[43mindex_col\u001b[49m\u001b[43m,\u001b[49m\n\u001b[32m    739\u001b[39m \u001b[43m        \u001b[49m\u001b[43mparams\u001b[49m\u001b[43m=\u001b[49m\u001b[43mparams\u001b[49m\u001b[43m,\u001b[49m\n\u001b[32m    740\u001b[39m \u001b[43m        \u001b[49m\u001b[43mcoerce_float\u001b[49m\u001b[43m=\u001b[49m\u001b[43mcoerce_float\u001b[49m\u001b[43m,\u001b[49m\n\u001b[32m    741\u001b[39m \u001b[43m        \u001b[49m\u001b[43mparse_dates\u001b[49m\u001b[43m=\u001b[49m\u001b[43mparse_dates\u001b[49m\u001b[43m,\u001b[49m\n\u001b[32m    742\u001b[39m \u001b[43m        \u001b[49m\u001b[43mchunksize\u001b[49m\u001b[43m=\u001b[49m\u001b[43mchunksize\u001b[49m\u001b[43m,\u001b[49m\n\u001b[32m    743\u001b[39m \u001b[43m        \u001b[49m\u001b[43mdtype_backend\u001b[49m\u001b[43m=\u001b[49m\u001b[43mdtype_backend\u001b[49m\u001b[43m,\u001b[49m\n\u001b[32m    744\u001b[39m \u001b[43m        \u001b[49m\u001b[43mdtype\u001b[49m\u001b[43m=\u001b[49m\u001b[43mdtype\u001b[49m\u001b[43m,\u001b[49m\n\u001b[32m    745\u001b[39m \u001b[43m    \u001b[49m\u001b[43m)\u001b[49m\n",
      "\u001b[36mFile \u001b[39m\u001b[32m~/Documents/fraud_project/venv/lib/python3.11/site-packages/pandas/io/sql.py:1848\u001b[39m, in \u001b[36mSQLDatabase.read_query\u001b[39m\u001b[34m(self, sql, index_col, coerce_float, parse_dates, params, chunksize, dtype, dtype_backend)\u001b[39m\n\u001b[32m   1791\u001b[39m \u001b[38;5;28;01mdef\u001b[39;00m\u001b[38;5;250m \u001b[39m\u001b[34mread_query\u001b[39m(\n\u001b[32m   1792\u001b[39m     \u001b[38;5;28mself\u001b[39m,\n\u001b[32m   1793\u001b[39m     sql: \u001b[38;5;28mstr\u001b[39m,\n\u001b[32m   (...)\u001b[39m\u001b[32m   1800\u001b[39m     dtype_backend: DtypeBackend | Literal[\u001b[33m\"\u001b[39m\u001b[33mnumpy\u001b[39m\u001b[33m\"\u001b[39m] = \u001b[33m\"\u001b[39m\u001b[33mnumpy\u001b[39m\u001b[33m\"\u001b[39m,\n\u001b[32m   1801\u001b[39m ) -> DataFrame | Iterator[DataFrame]:\n\u001b[32m   1802\u001b[39m \u001b[38;5;250m    \u001b[39m\u001b[33;03m\"\"\"\u001b[39;00m\n\u001b[32m   1803\u001b[39m \u001b[33;03m    Read SQL query into a DataFrame.\u001b[39;00m\n\u001b[32m   1804\u001b[39m \n\u001b[32m   (...)\u001b[39m\u001b[32m   1846\u001b[39m \n\u001b[32m   1847\u001b[39m \u001b[33;03m    \"\"\"\u001b[39;00m\n\u001b[32m-> \u001b[39m\u001b[32m1848\u001b[39m     result = \u001b[38;5;28;43mself\u001b[39;49m\u001b[43m.\u001b[49m\u001b[43mexecute\u001b[49m\u001b[43m(\u001b[49m\u001b[43msql\u001b[49m\u001b[43m,\u001b[49m\u001b[43m \u001b[49m\u001b[43mparams\u001b[49m\u001b[43m)\u001b[49m\n\u001b[32m   1849\u001b[39m     columns = result.keys()\n\u001b[32m   1851\u001b[39m     \u001b[38;5;28;01mif\u001b[39;00m chunksize \u001b[38;5;129;01mis\u001b[39;00m \u001b[38;5;129;01mnot\u001b[39;00m \u001b[38;5;28;01mNone\u001b[39;00m:\n",
      "\u001b[36mFile \u001b[39m\u001b[32m~/Documents/fraud_project/venv/lib/python3.11/site-packages/pandas/io/sql.py:1671\u001b[39m, in \u001b[36mSQLDatabase.execute\u001b[39m\u001b[34m(self, sql, params)\u001b[39m\n\u001b[32m   1669\u001b[39m args = [] \u001b[38;5;28;01mif\u001b[39;00m params \u001b[38;5;129;01mis\u001b[39;00m \u001b[38;5;28;01mNone\u001b[39;00m \u001b[38;5;28;01melse\u001b[39;00m [params]\n\u001b[32m   1670\u001b[39m \u001b[38;5;28;01mif\u001b[39;00m \u001b[38;5;28misinstance\u001b[39m(sql, \u001b[38;5;28mstr\u001b[39m):\n\u001b[32m-> \u001b[39m\u001b[32m1671\u001b[39m     \u001b[38;5;28;01mreturn\u001b[39;00m \u001b[38;5;28;43mself\u001b[39;49m\u001b[43m.\u001b[49m\u001b[43mcon\u001b[49m\u001b[43m.\u001b[49m\u001b[43mexec_driver_sql\u001b[49m\u001b[43m(\u001b[49m\u001b[43msql\u001b[49m\u001b[43m,\u001b[49m\u001b[43m \u001b[49m\u001b[43m*\u001b[49m\u001b[43margs\u001b[49m\u001b[43m)\u001b[49m\n\u001b[32m   1672\u001b[39m \u001b[38;5;28;01mreturn\u001b[39;00m \u001b[38;5;28mself\u001b[39m.con.execute(sql, *args)\n",
      "\u001b[36mFile \u001b[39m\u001b[32m~/Documents/fraud_project/venv/lib/python3.11/site-packages/sqlalchemy/engine/base.py:1773\u001b[39m, in \u001b[36mConnection.exec_driver_sql\u001b[39m\u001b[34m(self, statement, parameters, execution_options)\u001b[39m\n\u001b[32m   1768\u001b[39m execution_options = \u001b[38;5;28mself\u001b[39m._execution_options.merge_with(\n\u001b[32m   1769\u001b[39m     execution_options\n\u001b[32m   1770\u001b[39m )\n\u001b[32m   1772\u001b[39m dialect = \u001b[38;5;28mself\u001b[39m.dialect\n\u001b[32m-> \u001b[39m\u001b[32m1773\u001b[39m ret = \u001b[38;5;28;43mself\u001b[39;49m\u001b[43m.\u001b[49m\u001b[43m_execute_context\u001b[49m\u001b[43m(\u001b[49m\n\u001b[32m   1774\u001b[39m \u001b[43m    \u001b[49m\u001b[43mdialect\u001b[49m\u001b[43m,\u001b[49m\n\u001b[32m   1775\u001b[39m \u001b[43m    \u001b[49m\u001b[43mdialect\u001b[49m\u001b[43m.\u001b[49m\u001b[43mexecution_ctx_cls\u001b[49m\u001b[43m.\u001b[49m\u001b[43m_init_statement\u001b[49m\u001b[43m,\u001b[49m\n\u001b[32m   1776\u001b[39m \u001b[43m    \u001b[49m\u001b[43mstatement\u001b[49m\u001b[43m,\u001b[49m\n\u001b[32m   1777\u001b[39m \u001b[43m    \u001b[49m\u001b[38;5;28;43;01mNone\u001b[39;49;00m\u001b[43m,\u001b[49m\n\u001b[32m   1778\u001b[39m \u001b[43m    \u001b[49m\u001b[43mexecution_options\u001b[49m\u001b[43m,\u001b[49m\n\u001b[32m   1779\u001b[39m \u001b[43m    \u001b[49m\u001b[43mstatement\u001b[49m\u001b[43m,\u001b[49m\n\u001b[32m   1780\u001b[39m \u001b[43m    \u001b[49m\u001b[43mdistilled_parameters\u001b[49m\u001b[43m,\u001b[49m\n\u001b[32m   1781\u001b[39m \u001b[43m\u001b[49m\u001b[43m)\u001b[49m\n\u001b[32m   1783\u001b[39m \u001b[38;5;28;01mreturn\u001b[39;00m ret\n",
      "\u001b[36mFile \u001b[39m\u001b[32m~/Documents/fraud_project/venv/lib/python3.11/site-packages/sqlalchemy/engine/base.py:1840\u001b[39m, in \u001b[36mConnection._execute_context\u001b[39m\u001b[34m(self, dialect, constructor, statement, parameters, execution_options, *args, **kw)\u001b[39m\n\u001b[32m   1838\u001b[39m     \u001b[38;5;28;01mreturn\u001b[39;00m \u001b[38;5;28mself\u001b[39m._exec_insertmany_context(dialect, context)\n\u001b[32m   1839\u001b[39m \u001b[38;5;28;01melse\u001b[39;00m:\n\u001b[32m-> \u001b[39m\u001b[32m1840\u001b[39m     \u001b[38;5;28;01mreturn\u001b[39;00m \u001b[38;5;28;43mself\u001b[39;49m\u001b[43m.\u001b[49m\u001b[43m_exec_single_context\u001b[49m\u001b[43m(\u001b[49m\n\u001b[32m   1841\u001b[39m \u001b[43m        \u001b[49m\u001b[43mdialect\u001b[49m\u001b[43m,\u001b[49m\u001b[43m \u001b[49m\u001b[43mcontext\u001b[49m\u001b[43m,\u001b[49m\u001b[43m \u001b[49m\u001b[43mstatement\u001b[49m\u001b[43m,\u001b[49m\u001b[43m \u001b[49m\u001b[43mparameters\u001b[49m\n\u001b[32m   1842\u001b[39m \u001b[43m    \u001b[49m\u001b[43m)\u001b[49m\n",
      "\u001b[36mFile \u001b[39m\u001b[32m~/Documents/fraud_project/venv/lib/python3.11/site-packages/sqlalchemy/engine/base.py:1980\u001b[39m, in \u001b[36mConnection._exec_single_context\u001b[39m\u001b[34m(self, dialect, context, statement, parameters)\u001b[39m\n\u001b[32m   1977\u001b[39m     result = context._setup_result_proxy()\n\u001b[32m   1979\u001b[39m \u001b[38;5;28;01mexcept\u001b[39;00m \u001b[38;5;167;01mBaseException\u001b[39;00m \u001b[38;5;28;01mas\u001b[39;00m e:\n\u001b[32m-> \u001b[39m\u001b[32m1980\u001b[39m     \u001b[38;5;28;43mself\u001b[39;49m\u001b[43m.\u001b[49m\u001b[43m_handle_dbapi_exception\u001b[49m\u001b[43m(\u001b[49m\n\u001b[32m   1981\u001b[39m \u001b[43m        \u001b[49m\u001b[43me\u001b[49m\u001b[43m,\u001b[49m\u001b[43m \u001b[49m\u001b[43mstr_statement\u001b[49m\u001b[43m,\u001b[49m\u001b[43m \u001b[49m\u001b[43meffective_parameters\u001b[49m\u001b[43m,\u001b[49m\u001b[43m \u001b[49m\u001b[43mcursor\u001b[49m\u001b[43m,\u001b[49m\u001b[43m \u001b[49m\u001b[43mcontext\u001b[49m\n\u001b[32m   1982\u001b[39m \u001b[43m    \u001b[49m\u001b[43m)\u001b[49m\n\u001b[32m   1984\u001b[39m \u001b[38;5;28;01mreturn\u001b[39;00m result\n",
      "\u001b[36mFile \u001b[39m\u001b[32m~/Documents/fraud_project/venv/lib/python3.11/site-packages/sqlalchemy/engine/base.py:2349\u001b[39m, in \u001b[36mConnection._handle_dbapi_exception\u001b[39m\u001b[34m(self, e, statement, parameters, cursor, context, is_sub_exec)\u001b[39m\n\u001b[32m   2347\u001b[39m \u001b[38;5;28;01melif\u001b[39;00m should_wrap:\n\u001b[32m   2348\u001b[39m     \u001b[38;5;28;01massert\u001b[39;00m sqlalchemy_exception \u001b[38;5;129;01mis\u001b[39;00m \u001b[38;5;129;01mnot\u001b[39;00m \u001b[38;5;28;01mNone\u001b[39;00m\n\u001b[32m-> \u001b[39m\u001b[32m2349\u001b[39m     \u001b[38;5;28;01mraise\u001b[39;00m sqlalchemy_exception.with_traceback(exc_info[\u001b[32m2\u001b[39m]) \u001b[38;5;28;01mfrom\u001b[39;00m\u001b[38;5;250m \u001b[39m\u001b[34;01me\u001b[39;00m\n\u001b[32m   2350\u001b[39m \u001b[38;5;28;01melse\u001b[39;00m:\n\u001b[32m   2351\u001b[39m     \u001b[38;5;28;01massert\u001b[39;00m exc_info[\u001b[32m1\u001b[39m] \u001b[38;5;129;01mis\u001b[39;00m \u001b[38;5;129;01mnot\u001b[39;00m \u001b[38;5;28;01mNone\u001b[39;00m\n",
      "\u001b[36mFile \u001b[39m\u001b[32m~/Documents/fraud_project/venv/lib/python3.11/site-packages/sqlalchemy/engine/base.py:1961\u001b[39m, in \u001b[36mConnection._exec_single_context\u001b[39m\u001b[34m(self, dialect, context, statement, parameters)\u001b[39m\n\u001b[32m   1959\u001b[39m                 \u001b[38;5;28;01mbreak\u001b[39;00m\n\u001b[32m   1960\u001b[39m     \u001b[38;5;28;01mif\u001b[39;00m \u001b[38;5;129;01mnot\u001b[39;00m evt_handled:\n\u001b[32m-> \u001b[39m\u001b[32m1961\u001b[39m         \u001b[38;5;28;43mself\u001b[39;49m\u001b[43m.\u001b[49m\u001b[43mdialect\u001b[49m\u001b[43m.\u001b[49m\u001b[43mdo_execute\u001b[49m\u001b[43m(\u001b[49m\n\u001b[32m   1962\u001b[39m \u001b[43m            \u001b[49m\u001b[43mcursor\u001b[49m\u001b[43m,\u001b[49m\u001b[43m \u001b[49m\u001b[43mstr_statement\u001b[49m\u001b[43m,\u001b[49m\u001b[43m \u001b[49m\u001b[43meffective_parameters\u001b[49m\u001b[43m,\u001b[49m\u001b[43m \u001b[49m\u001b[43mcontext\u001b[49m\n\u001b[32m   1963\u001b[39m \u001b[43m        \u001b[49m\u001b[43m)\u001b[49m\n\u001b[32m   1965\u001b[39m \u001b[38;5;28;01mif\u001b[39;00m \u001b[38;5;28mself\u001b[39m._has_events \u001b[38;5;129;01mor\u001b[39;00m \u001b[38;5;28mself\u001b[39m.engine._has_events:\n\u001b[32m   1966\u001b[39m     \u001b[38;5;28mself\u001b[39m.dispatch.after_cursor_execute(\n\u001b[32m   1967\u001b[39m         \u001b[38;5;28mself\u001b[39m,\n\u001b[32m   1968\u001b[39m         cursor,\n\u001b[32m   (...)\u001b[39m\u001b[32m   1972\u001b[39m         context.executemany,\n\u001b[32m   1973\u001b[39m     )\n",
      "\u001b[36mFile \u001b[39m\u001b[32m~/Documents/fraud_project/venv/lib/python3.11/site-packages/sqlalchemy/engine/default.py:944\u001b[39m, in \u001b[36mDefaultDialect.do_execute\u001b[39m\u001b[34m(self, cursor, statement, parameters, context)\u001b[39m\n\u001b[32m    943\u001b[39m \u001b[38;5;28;01mdef\u001b[39;00m\u001b[38;5;250m \u001b[39m\u001b[34mdo_execute\u001b[39m(\u001b[38;5;28mself\u001b[39m, cursor, statement, parameters, context=\u001b[38;5;28;01mNone\u001b[39;00m):\n\u001b[32m--> \u001b[39m\u001b[32m944\u001b[39m     \u001b[43mcursor\u001b[49m\u001b[43m.\u001b[49m\u001b[43mexecute\u001b[49m\u001b[43m(\u001b[49m\u001b[43mstatement\u001b[49m\u001b[43m,\u001b[49m\u001b[43m \u001b[49m\u001b[43mparameters\u001b[49m\u001b[43m)\u001b[49m\n",
      "\u001b[31mProgrammingError\u001b[39m: (psycopg2.errors.UndefinedTable) relation \"clean.mv_ads\" does not exist\nLINE 1: SELECT * FROM clean.mv_ads\n                      ^\n\n[SQL: SELECT * FROM clean.mv_ads]\n(Background on this error at: https://sqlalche.me/e/20/f405)"
     ]
    }
   ],
   "source": [
    "# 📥 Load cleaned ads & clicks from the clean schema\n",
    "query_ads = \"SELECT * FROM clean.mv_ads\"\n",
    "query_clicks = \"SELECT * FROM clean.mv_raw_clicks\"\n",
    "query_conn = \"SELECT * FROM clean.mv_ad_connections\"\n",
    "\n",
    "df_ads = pd.read_sql(query_ads, engine)\n",
    "df_clicks = pd.read_sql(query_clicks, engine)\n",
    "df_conn = pd.read_sql(query_conn, engine)\n",
    "\n",
    "print(f\"Loaded {len(df_ads)} ads, {len(df_clicks)} clicks, {len(df_conn)} connections.\")\n"
   ]
  },
  {
   "cell_type": "code",
   "execution_count": 3,
   "id": "a6be3c70",
   "metadata": {},
   "outputs": [
    {
     "ename": "NameError",
     "evalue": "name 'df_clicks' is not defined",
     "output_type": "error",
     "traceback": [
      "\u001b[31m---------------------------------------------------------------------------\u001b[39m",
      "\u001b[31mNameError\u001b[39m                                 Traceback (most recent call last)",
      "\u001b[36mCell\u001b[39m\u001b[36m \u001b[39m\u001b[32mIn[3]\u001b[39m\u001b[32m, line 2\u001b[39m\n\u001b[32m      1\u001b[39m \u001b[38;5;66;03m# 📊 CTR = clicks / impressions (approximation using raw_clicks count)\u001b[39;00m\n\u001b[32m----> \u001b[39m\u001b[32m2\u001b[39m ctr_df = \u001b[43mdf_clicks\u001b[49m.groupby(\u001b[33m\"\u001b[39m\u001b[33mad_id\u001b[39m\u001b[33m\"\u001b[39m).agg(\n\u001b[32m      3\u001b[39m     total_clicks=(\u001b[33m\"\u001b[39m\u001b[33mip_address\u001b[39m\u001b[33m\"\u001b[39m, \u001b[33m\"\u001b[39m\u001b[33mcount\u001b[39m\u001b[33m\"\u001b[39m),\n\u001b[32m      4\u001b[39m     unique_ips=(\u001b[33m\"\u001b[39m\u001b[33mip_address\u001b[39m\u001b[33m\"\u001b[39m, \u001b[33m\"\u001b[39m\u001b[33mnunique\u001b[39m\u001b[33m\"\u001b[39m)\n\u001b[32m      5\u001b[39m ).reset_index()\n\u001b[32m      7\u001b[39m \u001b[38;5;66;03m# Merge with ads info\u001b[39;00m\n\u001b[32m      8\u001b[39m ctr_df = ctr_df.merge(df_ads[[\u001b[33m\"\u001b[39m\u001b[33mad_id\u001b[39m\u001b[33m\"\u001b[39m, \u001b[33m\"\u001b[39m\u001b[33madvertiser\u001b[39m\u001b[33m\"\u001b[39m, \u001b[33m\"\u001b[39m\u001b[33mcategory\u001b[39m\u001b[33m\"\u001b[39m]], on=\u001b[33m\"\u001b[39m\u001b[33mad_id\u001b[39m\u001b[33m\"\u001b[39m, how=\u001b[33m\"\u001b[39m\u001b[33mleft\u001b[39m\u001b[33m\"\u001b[39m)\n",
      "\u001b[31mNameError\u001b[39m: name 'df_clicks' is not defined"
     ]
    }
   ],
   "source": [
    "# 📊 CTR = clicks / impressions (approximation using raw_clicks count)\n",
    "ctr_df = df_clicks.groupby(\"ad_id\").agg(\n",
    "    total_clicks=(\"ip_address\", \"count\"),\n",
    "    unique_ips=(\"ip_address\", \"nunique\")\n",
    ").reset_index()\n",
    "\n",
    "# Merge with ads info\n",
    "ctr_df = ctr_df.merge(df_ads[[\"ad_id\", \"advertiser\", \"category\"]], on=\"ad_id\", how=\"left\")\n",
    "\n",
    "# Compute click ratio\n",
    "ctr_df[\"clicks_per_unique_ip\"] = ctr_df[\"total_clicks\"] / ctr_df[\"unique_ips\"]\n",
    "\n",
    "ctr_df.head()\n"
   ]
  },
  {
   "cell_type": "code",
   "execution_count": null,
   "id": "a8e176f2",
   "metadata": {},
   "outputs": [],
   "source": [
    "df_clicks[\"click_time\"] = pd.to_datetime(df_clicks[\"click_time\"])\n",
    "\n",
    "# Difference between clicks for each ad (in seconds)\n",
    "time_diff_df = df_clicks.sort_values([\"ad_id\", \"click_time\"]).groupby(\"ad_id\")[\"click_time\"].diff().dt.total_seconds()\n",
    "\n",
    "# Aggregate stats\n",
    "ttc_df = df_clicks.assign(time_diff=time_diff_df).groupby(\"ad_id\").agg(\n",
    "    avg_time_between_clicks=(\"time_diff\", \"mean\"),\n",
    "    median_time_between_clicks=(\"time_diff\", \"median\")\n",
    ").reset_index()\n",
    "\n",
    "ttc_df.head()\n"
   ]
  },
  {
   "cell_type": "code",
   "execution_count": null,
   "id": "974d2ea8",
   "metadata": {},
   "outputs": [],
   "source": [
    "# 📌 Define suspicious if > threshold clicks from same IP on same ad\n",
    "threshold = 10  # You can tweak this\n",
    "ip_clicks = df_clicks.groupby([\"ad_id\", \"ip_address\"]).size().reset_index(name=\"click_count\")\n",
    "ip_clicks[\"suspicious_ip\"] = (ip_clicks[\"click_count\"] > threshold).astype(int)\n",
    "\n",
    "# Aggregate to ad-level suspicious IP ratio\n",
    "suspicious_ip_df = ip_clicks.groupby(\"ad_id\")[\"suspicious_ip\"].mean().reset_index()\n",
    "suspicious_ip_df.rename(columns={\"suspicious_ip\": \"ratio_suspicious_ips\"}, inplace=True)\n",
    "\n",
    "suspicious_ip_df.head()\n"
   ]
  },
  {
   "cell_type": "code",
   "execution_count": null,
   "id": "a678ea88",
   "metadata": {},
   "outputs": [],
   "source": [
    "# Extract email domain from ad_connections\n",
    "df_conn[\"email_domain\"] = df_conn[\"email\"].str.extract(r'@(.+)$')\n",
    "\n",
    "# List of suspicious domains (temp mail services)\n",
    "temp_domains = [\"tempmail.com\", \"mailinator.com\", \"10minutemail.com\"]\n",
    "\n",
    "# Flag suspicious domains\n",
    "df_conn[\"temp_email_flag\"] = df_conn[\"email_domain\"].isin(temp_domains).astype(int)\n",
    "\n",
    "email_flags = df_conn.groupby(\"ad_id\")[\"temp_email_flag\"].mean().reset_index()\n",
    "email_flags.rename(columns={\"temp_email_flag\": \"ratio_temp_emails\"}, inplace=True)\n",
    "\n",
    "email_flags.head()\n"
   ]
  },
  {
   "cell_type": "code",
   "execution_count": null,
   "id": "be6197e1",
   "metadata": {},
   "outputs": [],
   "source": [
    "# Count distinct ads per IP\n",
    "ip_ad_counts = df_conn.groupby(\"ip_address\")[\"ad_id\"].nunique().reset_index(name=\"ads_per_ip\")\n",
    "\n",
    "# Join back to connections\n",
    "df_conn = df_conn.merge(ip_ad_counts, on=\"ip_address\", how=\"left\")\n",
    "\n",
    "# Aggregate max ads per IP per ad_id (proxy for click farms)\n",
    "clickfarm_df = df_conn.groupby(\"ad_id\")[\"ads_per_ip\"].max().reset_index()\n",
    "clickfarm_df.rename(columns={\"ads_per_ip\": \"max_ads_per_ip\"}, inplace=True)\n",
    "\n",
    "clickfarm_df.head()\n"
   ]
  },
  {
   "cell_type": "code",
   "execution_count": null,
   "id": "0e41eb98",
   "metadata": {},
   "outputs": [],
   "source": [
    "# Invalid if null, empty, or weird values\n",
    "df_clicks[\"invalid_device\"] = df_clicks[\"device_type\"].isna() | (df_clicks[\"device_type\"].str.strip() == \"\")\n",
    "\n",
    "device_flags = df_clicks.groupby(\"ad_id\")[\"invalid_device\"].mean().reset_index()\n",
    "device_flags.rename(columns={\"invalid_device\": \"ratio_invalid_devices\"}, inplace=True)\n",
    "\n",
    "device_flags.head()\n"
   ]
  },
  {
   "cell_type": "code",
   "execution_count": null,
   "id": "0a17904d",
   "metadata": {},
   "outputs": [],
   "source": [
    "# Broadcast IP example: 255.255.255.255\n",
    "df_clicks[\"broadcast_ip_flag\"] = (df_clicks[\"ip_address\"] == \"255.255.255.255\").astype(int)\n",
    "\n",
    "broadcast_flags = df_clicks.groupby(\"ad_id\")[\"broadcast_ip_flag\"].mean().reset_index()\n",
    "broadcast_flags.rename(columns={\"broadcast_ip_flag\": \"ratio_broadcast_ips\"}, inplace=True)\n",
    "\n",
    "broadcast_flags.head()\n"
   ]
  },
  {
   "cell_type": "code",
   "execution_count": null,
   "id": "1fead6be",
   "metadata": {},
   "outputs": [],
   "source": [
    "features_df = ctr_df \\\n",
    "    .merge(ttc_df, on=\"ad_id\", how=\"left\") \\\n",
    "    .merge(suspicious_ip_df, on=\"ad_id\", how=\"left\") \\\n",
    "    .merge(email_flags, on=\"ad_id\", how=\"left\") \\\n",
    "    .merge(clickfarm_df, on=\"ad_id\", how=\"left\") \\\n",
    "    .merge(device_flags, on=\"ad_id\", how=\"left\") \\\n",
    "    .merge(broadcast_flags, on=\"ad_id\", how=\"left\")\n",
    "\n",
    "# Replace NaNs with 0\n",
    "features_df = features_df.fillna(0)\n",
    "\n",
    "print(f\"Final features shape: {features_df.shape}\")\n",
    "features_df.head()\n"
   ]
  },
  {
   "cell_type": "code",
   "execution_count": null,
   "id": "37d14405",
   "metadata": {},
   "outputs": [],
   "source": [
    "# 💾 Save to database in a new schema 'features'\n",
    "with engine.connect() as conn:\n",
    "    conn.execute(text(\"CREATE SCHEMA IF NOT EXISTS features\"))\n",
    "    features_df.to_sql(\"ad_features\", engine, schema=\"features\", if_exists=\"replace\", index=False)\n",
    "\n",
    "# Also save locally\n",
    "features_df.to_csv(\"data/ad_features.csv\", index=False)\n",
    "\n",
    "print(\"✅ Features saved to database and CSV\")\n"
   ]
  },
  {
   "cell_type": "code",
   "execution_count": null,
   "id": "7b54cf35",
   "metadata": {},
   "outputs": [],
   "source": [
    "pd.read_sql(\"SELECT * FROM features.ad_features LIMIT 5\", engine)\n"
   ]
  }
 ],
 "metadata": {
  "kernelspec": {
   "display_name": "venv",
   "language": "python",
   "name": "python3"
  },
  "language_info": {
   "codemirror_mode": {
    "name": "ipython",
    "version": 3
   },
   "file_extension": ".py",
   "mimetype": "text/x-python",
   "name": "python",
   "nbconvert_exporter": "python",
   "pygments_lexer": "ipython3",
   "version": "3.11.13"
  }
 },
 "nbformat": 4,
 "nbformat_minor": 5
}
